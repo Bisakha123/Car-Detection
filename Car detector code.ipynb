{
 "cells": [
  {
   "cell_type": "code",
   "execution_count": 1,
   "id": "327ed119-3e81-49ce-9e41-a516655c6372",
   "metadata": {},
   "outputs": [],
   "source": [
    "import cv2\n",
    "import matplotlib.pyplot as plt"
   ]
  },
  {
   "cell_type": "code",
   "execution_count": 2,
   "id": "12a3bc8f-de51-4d44-9619-f042a164bfef",
   "metadata": {
    "scrolled": true
   },
   "outputs": [
    {
     "data": {
      "text/plain": [
       "< cv2.CascadeClassifier 000002183785CA70>"
      ]
     },
     "metadata": {},
     "output_type": "display_data"
    }
   ],
   "source": [
    "car_detector = cv2.CascadeClassifier('C:\\\\Users\\\\KIIT\\\\Acmegrade Machine Learning\\\\Project\\\\Car detector\\\\cars.xml')\n",
    "display (car_detector)"
   ]
  },
  {
   "cell_type": "code",
   "execution_count": 3,
   "id": "d3ad5c9d-72d4-475c-b5cc-e1f940557397",
   "metadata": {},
   "outputs": [
    {
     "data": {
      "text/plain": [
       "(286, 468, 3)"
      ]
     },
     "metadata": {},
     "output_type": "display_data"
    }
   ],
   "source": [
    "image = cv2.imread('C:\\\\Users\\\\KIIT\\\\Acmegrade Machine Learning\\\\Project\\\\Car detector\\\\car.jpg')\n",
    "display (image.shape)\n",
    "cv2.imshow('',image)\n",
    "cv2.waitKey(10000)\n",
    "plt.show()\n",
    "cv2.destroyAllWindows()"
   ]
  },
  {
   "cell_type": "code",
   "execution_count": 4,
   "id": "6f609561-4258-4b86-a4bb-29efe16e8053",
   "metadata": {},
   "outputs": [],
   "source": [
    "image_gray = cv2.cvtColor(image, cv2.COLOR_BGR2GRAY)\n",
    "detections = car_detector.detectMultiScale(image_gray, scaleFactor = 1.03, minNeighbors=8)                                      \n",
    "for (x, y, w, h) in detections:\n",
    "    cv2.rectangle(image, (x, y), (x + w, y + h), (0,255,0), 2)\n",
    "cv2.imshow('',image)\n",
    "cv2.waitKey(10000)\n",
    "plt.show()\n",
    "cv2.destroyAllWindows()"
   ]
  },
  {
   "cell_type": "code",
   "execution_count": null,
   "id": "9efacf34-8145-4063-b71b-052afe3abf59",
   "metadata": {},
   "outputs": [],
   "source": []
  }
 ],
 "metadata": {
  "kernelspec": {
   "display_name": "Python 3 (ipykernel)",
   "language": "python",
   "name": "python3"
  },
  "language_info": {
   "codemirror_mode": {
    "name": "ipython",
    "version": 3
   },
   "file_extension": ".py",
   "mimetype": "text/x-python",
   "name": "python",
   "nbconvert_exporter": "python",
   "pygments_lexer": "ipython3",
   "version": "3.9.19"
  }
 },
 "nbformat": 4,
 "nbformat_minor": 5
}
